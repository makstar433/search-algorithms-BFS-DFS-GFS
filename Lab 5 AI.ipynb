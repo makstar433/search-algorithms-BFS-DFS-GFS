{
 "cells": [
  {
   "cell_type": "code",
   "execution_count": 5,
   "id": "2ac34a6c",
   "metadata": {},
   "outputs": [
    {
     "name": "stdout",
     "output_type": "stream",
     "text": [
      "{'D', 'C', 'F', 'E', 'A', 'B', 'G'}\n",
      "['A', 'D', 'G']\n"
     ]
    }
   ],
   "source": [
    "graph = {\n",
    "    'A': ['B', 'D'],\n",
    "    'B': ['C', 'E'],\n",
    "    'D': ['E', 'G', 'H'],\n",
    "    'E': ['C', 'F'],\n",
    "    'G': ['H'],\n",
    "    'C': [],\n",
    "    'F': [],\n",
    "    'H': []\n",
    "}\n",
    "\n",
    "def dfs(graph, start, goal, visited=None):\n",
    "    if visited is None:\n",
    "        visited = set()  \n",
    "    visited.add(start)  \n",
    "    if start == goal:\n",
    "        return visited  \n",
    "    for neighbor in graph[start]:\n",
    "        if neighbor not in visited:\n",
    "            result = dfs(graph, neighbor, goal, visited)  \n",
    "            if result is not None:\n",
    "                return result  \n",
    "    return None  \n",
    "\n",
    "def bfs(graph, start, goal):\n",
    "    visited = set()  \n",
    "    queue = [(start, [start])]  \n",
    "    while queue:\n",
    "        (node, path) = queue.pop(0)  \n",
    "        visited.add(node)  \n",
    "        if node == goal:\n",
    "            return path  \n",
    "        for neighbor in graph[node]:\n",
    "            if neighbor not in visited:\n",
    "                queue.append((neighbor, path + [neighbor]))  \n",
    "    return None  \n",
    "\n",
    "print(dfs(graph, 'A', 'G'))\n",
    "print(bfs(graph, 'A', 'G'))"
   ]
  },
  {
   "cell_type": "code",
   "execution_count": 3,
   "id": "ae6ea6b0",
   "metadata": {},
   "outputs": [
    {
     "name": "stdout",
     "output_type": "stream",
     "text": [
      "Solution found!\n"
     ]
    }
   ],
   "source": [
    "from queue import Queue\n",
    "\n",
    "def get_blank_index(state):\n",
    "    return state.index(0)\n",
    "\n",
    "def swap_tiles(state, i, j):\n",
    "    new_state = state.copy()\n",
    "    new_state[i], new_state[j] = new_state[j], new_state[i]\n",
    "    return new_state\n",
    "\n",
    "def get_neighbors(state):\n",
    "    blank_index = get_blank_index(state)\n",
    "    neighbors = []\n",
    "    if blank_index != 0 and blank_index != 1 and blank_index != 2:\n",
    "        # can move up\n",
    "        new_state = swap_tiles(state, blank_index, blank_index - 3)\n",
    "        neighbors.append(new_state)\n",
    "    if blank_index != 0 and blank_index != 3 and blank_index != 6:\n",
    "        # can move left\n",
    "        new_state = swap_tiles(state, blank_index, blank_index - 1)\n",
    "        neighbors.append(new_state)\n",
    "    if blank_index != 6 and blank_index != 7 and blank_index != 8:\n",
    "        # can move down\n",
    "        new_state = swap_tiles(state, blank_index, blank_index + 3)\n",
    "        neighbors.append(new_state)\n",
    "    if blank_index != 2 and blank_index != 5 and blank_index != 8:\n",
    "        # can move right\n",
    "        new_state = swap_tiles(state, blank_index, blank_index + 1)\n",
    "        neighbors.append(new_state)\n",
    "    return neighbors\n",
    "\n",
    "def bfs(start_state, goal_state):\n",
    "    queue = Queue()\n",
    "    queue.put(start_state)\n",
    "    visited = set()\n",
    "    visited.add(tuple(start_state))\n",
    "    while not queue.empty():\n",
    "        state = queue.get()\n",
    "        if state == goal_state:\n",
    "            return True\n",
    "        neighbors = get_neighbors(state)\n",
    "        for neighbor in neighbors:\n",
    "            if tuple(neighbor) not in visited:\n",
    "                visited.add(tuple(neighbor))\n",
    "                queue.put(neighbor)\n",
    "    return False\n",
    "\n",
    "start_state = [2, 3, 8, 1, 0, 6, 7, 5, 4]\n",
    "goal_state = [1, 2, 3, 4, 5, 6, 7, 8, 0]\n",
    "\n",
    "if bfs(start_state, goal_state):\n",
    "    print(\"Solution found!\")\n",
    "else:\n",
    "    print(\"Solution not found.\")"
   ]
  },
  {
   "cell_type": "code",
   "execution_count": 4,
   "id": "6b1edf52",
   "metadata": {},
   "outputs": [
    {
     "name": "stdout",
     "output_type": "stream",
     "text": [
      "Solution found!\n"
     ]
    }
   ],
   "source": [
    "from queue import PriorityQueue\n",
    "\n",
    "graph = {'A': {'B': 1, 'D': 5},\n",
    "         'B': {'C': 2, 'E': 4},\n",
    "         'D': {'E': 2, 'G': 3, 'H': 4},\n",
    "         'E': {'C': 3, 'F': 1},\n",
    "         'G': {'H': 1},\n",
    "         'C': {},\n",
    "         'F': {},\n",
    "         'H': {}}\n",
    "\n",
    "heuristic = {'A': 5, 'B': 4, 'C': 2, 'D': 6, 'E': 3, 'F': 1, 'G': 5, 'H': 0}\n",
    "\n",
    "def greedy_best_first_search(start, goal):\n",
    "    frontier = PriorityQueue()\n",
    "    frontier.put(start, 0)\n",
    "    explored = set()\n",
    "    while not frontier.empty():\n",
    "        current = frontier.get()\n",
    "        if current == goal:\n",
    "            return True\n",
    "        explored.add(current)\n",
    "        for neighbor in graph[current]:\n",
    "            if neighbor not in explored:\n",
    "                frontier.put(neighbor, heuristic[neighbor])\n",
    "    return False\n",
    "\n",
    "start_node = 'A'\n",
    "goal_node = 'G'\n",
    "if greedy_best_first_search(start_node, goal_node):\n",
    "    print(\"Solution found!\")\n",
    "else:\n",
    "    print(\"Solution not found.\")"
   ]
  },
  {
   "cell_type": "code",
   "execution_count": null,
   "id": "5a3b7756",
   "metadata": {},
   "outputs": [],
   "source": []
  }
 ],
 "metadata": {
  "kernelspec": {
   "display_name": "Python 3 (ipykernel)",
   "language": "python",
   "name": "python3"
  },
  "language_info": {
   "codemirror_mode": {
    "name": "ipython",
    "version": 3
   },
   "file_extension": ".py",
   "mimetype": "text/x-python",
   "name": "python",
   "nbconvert_exporter": "python",
   "pygments_lexer": "ipython3",
   "version": "3.9.13"
  }
 },
 "nbformat": 4,
 "nbformat_minor": 5
}
